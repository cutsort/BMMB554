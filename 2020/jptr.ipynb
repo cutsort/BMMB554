{
 "cells": [
  {
   "cell_type": "markdown",
   "metadata": {
    "colab_type": "text",
    "id": "view-in-github"
   },
   "source": [
    "<a href=\"https://colab.research.google.com/github/nekrut/BMMB554/blob/master/Lecture2_1.ipynb\" target=\"_parent\"><img src=\"https://colab.research.google.com/assets/colab-badge.svg\" alt=\"Open In Colab\"/></a>"
   ]
  },
  {
   "cell_type": "raw",
   "metadata": {
    "colab_type": "text",
    "id": "aI3mpw7VrqG0"
   },
   "source": [
    "# Jupyter: What it is and how to use it\n",
    "------\n",
    "\n",
    "\n"
   ]
  },
  {
   "cell_type": "markdown",
   "metadata": {
    "colab_type": "text",
    "id": "CxVLK9mUrqG2"
   },
   "source": [
    "This tutorial is based on [IPython notebook](http://ipython.org/notebook.html) lecture is available at [http://github.com/jrjohansson/scientific-python-lectures](http://github.com/jrjohansson/scientific-python-lectures)."
   ]
  },
  {
   "cell_type": "markdown",
   "metadata": {
    "colab_type": "text",
    "id": "ujv-Ym8CtI-7"
   },
   "source": [
    "## Notebook is a collection of cells containing the code"
   ]
  },
  {
   "cell_type": "code",
   "execution_count": 0,
   "metadata": {
    "colab": {},
    "colab_type": "code",
    "id": "YJNj33BmtRRz"
   },
   "outputs": [],
   "source": [
    "# Tell Jupyter to render plots inside the Notebook\n",
    "%matplotlib inline"
   ]
  },
  {
   "cell_type": "code",
   "execution_count": 0,
   "metadata": {
    "colab": {},
    "colab_type": "code",
    "id": "M0nFlPNdtRfZ"
   },
   "outputs": [],
   "source": [
    "# Import plotting library\n",
    "from pylab import *"
   ]
  },
  {
   "cell_type": "code",
   "execution_count": 0,
   "metadata": {
    "colab": {},
    "colab_type": "code",
    "id": "nu6uKg_DtRYa"
   },
   "outputs": [],
   "source": []
  },
  {
   "cell_type": "code",
   "execution_count": 0,
   "metadata": {
    "colab": {},
    "colab_type": "code",
    "id": "LfszPOrztSTI"
   },
   "outputs": [],
   "source": [
    "# Import numpy library\n",
    "import numpy as np"
   ]
  },
  {
   "cell_type": "code",
   "execution_count": 0,
   "metadata": {
    "colab": {},
    "colab_type": "code",
    "id": "YhiagokttSg1"
   },
   "outputs": [],
   "source": [
    "# Create a set of evenly spaced numbers and their squares\n",
    "x = np.linspace(0, 5, 10)\n",
    "y = x ** 2"
   ]
  },
  {
   "cell_type": "code",
   "execution_count": 5,
   "metadata": {
    "colab": {
     "base_uri": "https://localhost:8080/",
     "height": 51
    },
    "colab_type": "code",
    "id": "VqZPsXWhtSrD",
    "outputId": "95ae7306-dec9-40fd-ddd2-3d7c680e3f53"
   },
   "outputs": [
    {
     "name": "stdout",
     "output_type": "stream",
     "text": [
      "[0.         0.55555556 1.11111111 1.66666667 2.22222222 2.77777778\n",
      " 3.33333333 3.88888889 4.44444444 5.        ]\n"
     ]
    }
   ],
   "source": [
    "print(x)"
   ]
  },
  {
   "cell_type": "code",
   "execution_count": 6,
   "metadata": {
    "colab": {
     "base_uri": "https://localhost:8080/",
     "height": 51
    },
    "colab_type": "code",
    "id": "Tq7nw2-itcaN",
    "outputId": "ae6c1119-a6df-4589-c2c6-b5d56e8b3599"
   },
   "outputs": [
    {
     "name": "stdout",
     "output_type": "stream",
     "text": [
      "[ 0.          0.30864198  1.2345679   2.77777778  4.9382716   7.71604938\n",
      " 11.11111111 15.12345679 19.75308642 25.        ]\n"
     ]
    }
   ],
   "source": [
    "print(y)"
   ]
  },
  {
   "cell_type": "code",
   "execution_count": 7,
   "metadata": {
    "colab": {
     "base_uri": "https://localhost:8080/",
     "height": 294
    },
    "colab_type": "code",
    "id": "bZ8K98UItcgh",
    "outputId": "ea99ada0-4c7e-40ac-fe4b-b18d9a9b85ff"
   },
   "outputs": [
    {
     "data": {
      "image/png": "[encoded data removed]",
      "text/plain": [
       "<matplotlib.figure.Figure at 0x7fbad39b6210>"
      ]
     },
     "metadata": {
      "tags": []
     },
     "output_type": "display_data"
    }
   ],
   "source": [
    "# Plot their relationship\n",
    "figure()\n",
    "plot(x, y, 'g*-')\n",
    "xlabel('x')\n",
    "ylabel('y')\n",
    "title('title')\n",
    "show()"
   ]
  },
  {
   "cell_type": "markdown",
   "metadata": {
    "colab_type": "text",
    "id": "DUcmtn5Gtkyv"
   },
   "source": [
    "## Cells do not have to contain the code only"
   ]
  },
  {
   "cell_type": "markdown",
   "metadata": {
    "colab_type": "text",
    "id": "DL8Jl4l1tk5q"
   },
   "source": [
    "You can put any text into \"text\" cells and format it using [markdown](https://daringfireball.net/projects/markdown). Here are some examples: "
   ]
  },
  {
   "cell_type": "markdown",
   "metadata": {
    "colab_type": "text",
    "id": "2KuoH4yUtk8R"
   },
   "source": [
    "```\n",
    "# H1\n",
    "## H2\n",
    "### H3\n",
    "#### H4\n",
    "##### H5\n",
    "###### H6\n",
    "```"
   ]
  },
  {
   "cell_type": "markdown",
   "metadata": {
    "colab_type": "text",
    "id": "uF_MDnYgtk-3"
   },
   "source": [
    "Here are different font modifiers:\n",
    "\n",
    "**Bold**\n",
    "\n",
    "*Italic*\n",
    "\n",
    "`code`"
   ]
  },
  {
   "cell_type": "markdown",
   "metadata": {
    "colab_type": "text",
    "id": "4-ONgoYrtlB1"
   },
   "source": [
    "This is a horizontal rule:\n",
    "\n",
    "------"
   ]
  },
  {
   "cell_type": "markdown",
   "metadata": {
    "colab_type": "text",
    "id": "W9ZroEY3tlJQ"
   },
   "source": [
    "This is an unnumbered list:\n",
    "\n",
    " - animals\n",
    "   - horse\n",
    "   - dog\n",
    " - insects\n",
    "    - butterfly\n",
    "    - beetle\n",
    " \n",
    "And this is a numbered list:\n",
    " \n",
    "  1. Monday\n",
    "  1. Tuesday\n",
    "  1. Wednesday\n",
    "  1. Thursday\n",
    "  1. Friday\n",
    "  1. Saturday\n",
    "  1. Sunday"
   ]
  },
  {
   "cell_type": "markdown",
   "metadata": {
    "colab_type": "text",
    "id": "tVji0-yCtlMW"
   },
   "source": [
    "A table:\n",
    "\n",
    "| # | What  | Why |\n",
    "|---|------|--------|\n",
    "| 3.1 | **DNA (and RNA) sequencing** | From Sanger to Nanopores |\n",
    "| 3.2 | **Variation** | Finding and interpreting genetic differences |\n",
    "| 3.3 | **Transcriptomics** | Measuring gene expression |\n",
    "| 3.4 | **Transcriptomics** | Measuring shapes |\n",
    "| 3.5 | **DNA/Protein interactions** | Assessing gene regulation and genome architecture |\n",
    "| 3.6 | **Metagenomics** | Analysis of complex mixtures |\n",
    "| 3.7 | **About counts** | NGS data is count data. There are common themes in read count analysis |"
   ]
  },
  {
   "cell_type": "markdown",
   "metadata": {
    "colab_type": "text",
    "id": "yo-mOShStlGz"
   },
   "source": []
  },
  {
   "cell_type": "markdown",
   "metadata": {
    "colab_type": "text",
    "id": "LQ7hOgZWtlEr"
   },
   "source": [
    "## Using the code cells"
   ]
  },
  {
   "cell_type": "code",
   "execution_count": 11,
   "metadata": {
    "colab": {
     "base_uri": "https://localhost:8080/",
     "height": 34
    },
    "colab_type": "code",
    "id": "GcKNkV5auZZ0",
    "outputId": "ba4753eb-0e28-4575-ac7f-f4a442c1f47f"
   },
   "outputs": [
    {
     "data": {
      "text/plain": [
       "12"
      ]
     },
     "execution_count": 11,
     "metadata": {
      "tags": []
     },
     "output_type": "execute_result"
    }
   ],
   "source": [
    "2+10"
   ]
  },
  {
   "cell_type": "code",
   "execution_count": 12,
   "metadata": {
    "colab": {
     "base_uri": "https://localhost:8080/",
     "height": 34
    },
    "colab_type": "code",
    "id": "paEGnovAuZc1",
    "outputId": "41322747-2b61-40a1-d525-754fb52ecbe6"
   },
   "outputs": [
    {
     "data": {
      "text/plain": [
       "22"
      ]
     },
     "execution_count": 12,
     "metadata": {
      "tags": []
     },
     "output_type": "execute_result"
    }
   ],
   "source": [
    "_+10"
   ]
  },
  {
   "cell_type": "code",
   "execution_count": 13,
   "metadata": {
    "colab": {
     "base_uri": "https://localhost:8080/",
     "height": 34
    },
    "colab_type": "code",
    "id": "oLE6b9TCuZi4",
    "outputId": "5b052e0e-eb2d-4832-f8dc-319e4a30ba57"
   },
   "outputs": [
    {
     "data": {
      "text/plain": [
       "30"
      ]
     },
     "execution_count": 13,
     "metadata": {
      "tags": []
     },
     "output_type": "execute_result"
    }
   ],
   "source": [
    "10+20"
   ]
  },
  {
   "cell_type": "code",
   "execution_count": 0,
   "metadata": {
    "colab": {},
    "colab_type": "code",
    "id": "yTfeN1M4uZl1"
   },
   "outputs": [],
   "source": [
    "10+20;"
   ]
  },
  {
   "cell_type": "code",
   "execution_count": 0,
   "metadata": {
    "colab": {},
    "colab_type": "code",
    "id": "8en4_WjluZ5-"
   },
   "outputs": [],
   "source": [
    "%history?"
   ]
  },
  {
   "cell_type": "markdown",
   "metadata": {
    "colab_type": "text",
    "id": "0JTZJE1wvtCO"
   },
   "source": [
    "## Accessing the local filesystem"
   ]
  },
  {
   "cell_type": "code",
   "execution_count": 23,
   "metadata": {
    "colab": {
     "base_uri": "https://localhost:8080/",
     "height": 34
    },
    "colab_type": "code",
    "id": "7W6MEPaGvyqm",
    "outputId": "5ccdb3ed-800c-4c12-b523-04c32a28723b"
   },
   "outputs": [
    {
     "name": "stdout",
     "output_type": "stream",
     "text": [
      "/content\n"
     ]
    }
   ],
   "source": [
    "!pwd"
   ]
  },
  {
   "cell_type": "code",
   "execution_count": 0,
   "metadata": {
    "colab": {},
    "colab_type": "code",
    "id": "-DvvIIn3vyxr"
   },
   "outputs": [],
   "source": [
    "!cd /content"
   ]
  },
  {
   "cell_type": "code",
   "execution_count": 26,
   "metadata": {
    "colab": {
     "base_uri": "https://localhost:8080/",
     "height": 34
    },
    "colab_type": "code",
    "id": "1TcpPoovvy4_",
    "outputId": "213ebc66-c9bd-4dc0-aba4-ec147f14901a"
   },
   "outputs": [
    {
     "name": "stdout",
     "output_type": "stream",
     "text": [
      "sample_data\n"
     ]
    }
   ],
   "source": [
    "!ls"
   ]
  },
  {
   "cell_type": "markdown",
   "metadata": {
    "colab_type": "text",
    "id": "XoN4rk5uwBe6"
   },
   "source": [
    "## Magic functions"
   ]
  },
  {
   "cell_type": "markdown",
   "metadata": {
    "colab_type": "text",
    "id": "TUEwfaXRwB0N"
   },
   "source": [
    "The IPyhton 'magic' functions are a set of commands, invoked by prepending one or two % signs to their name, that live in a namespace separate from your normal Python variables and provide a more command-like interface. They take flags with -- and arguments without quotes, parentheses or commas. The motivation behind this system is two-fold:\n",
    "\n",
    " - To provide an orthogonal namespace for controlling IPython itself and exposing other system-oriented functionality.\n",
    " - To expose a calling mode that requires minimal verbosity and typing while working interactively. Thus the inspiration taken from the classic Unix shell style for commands."
   ]
  },
  {
   "cell_type": "code",
   "execution_count": 0,
   "metadata": {
    "colab": {},
    "colab_type": "code",
    "id": "mn0EpqcxwCzH"
   },
   "outputs": [],
   "source": [
    "%magic"
   ]
  },
  {
   "cell_type": "code",
   "execution_count": 29,
   "metadata": {
    "colab": {
     "base_uri": "https://localhost:8080/",
     "height": 34
    },
    "colab_type": "code",
    "id": "lTCt160AwC46",
    "outputId": "d4691a58-0239-4045-ba55-6fbda1ff10f1"
   },
   "outputs": [
    {
     "name": "stdout",
     "output_type": "stream",
     "text": [
      "sample_data\n"
     ]
    }
   ],
   "source": [
    "%%bash \n",
    "ls"
   ]
  },
  {
   "cell_type": "code",
   "execution_count": 0,
   "metadata": {
    "colab": {},
    "colab_type": "code",
    "id": "kOjqXfu_vAcu"
   },
   "outputs": [],
   "source": []
  }
 ],
 "metadata": {
  "colab": {
   "collapsed_sections": [
    "ujv-Ym8CtI-7",
    "DUcmtn5Gtkyv",
    "LQ7hOgZWtlEr",
    "0JTZJE1wvtCO",
    "XoN4rk5uwBe6",
    "V5GJD-rCrqH9",
    "SCdzdYXurqH-",
    "GPLF_EZdrqIP",
    "X3vw8e-0rqIm",
    "aNPj7t0yrqJI",
    "QYjvFm1MrqJx",
    "vprE3U8-rqJx",
    "faHv5MlarqLP",
    "3xiOFSC7rqLd",
    "Y0kkqo8XrqLj",
    "P17Dqlm4rqLk",
    "QfBlYf-4rqLp",
    "YtmSg7rnrqLy",
    "i1FBboL4rqLz",
    "gHv6c-nJrqMB",
    "EikZfkZvrqMD",
    "DCEDK8etrqMF",
    "c4xs4zKyrqMa",
    "OqEdChWKrqM8"
   ],
   "include_colab_link": true,
   "name": "Lecture2.1",
   "provenance": [],
   "version": "0.3.2"
  },
  "kernelspec": {
   "display_name": "Python 2",
   "language": "python",
   "name": "python2"
  }
 },
 "nbformat": 4,
 "nbformat_minor": 1
}
